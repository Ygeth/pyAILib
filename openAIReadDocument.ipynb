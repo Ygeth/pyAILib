{
 "cells": [
  {
   "cell_type": "markdown",
   "metadata": {},
   "source": [
    "# Quickstart tutorial de langchain\n",
    "https://www.youtube.com/watch?v=LBNpyjcbv0o"
   ]
  },
  {
   "cell_type": "code",
   "execution_count": 6,
   "metadata": {},
   "outputs": [],
   "source": [
    "# ! pip install langchain\n",
    "# ! pip install langchain-openai\n",
    "# ! pip install beautifulsoup4 ## Web scraping library\n",
    "# ! pip install faiss-cpu ## Vector store and search library"
   ]
  },
  {
   "cell_type": "code",
   "execution_count": 2,
   "metadata": {},
   "outputs": [],
   "source": [
    "import os\n",
    "from langchain_openai import ChatOpenAI\n",
    "\n",
    "os.environ[\"OPENAI_API_KEY\"] = \"\"\n",
    "## Import llm \n",
    "llm = ChatOpenAI()"
   ]
  },
  {
   "cell_type": "markdown",
   "metadata": {},
   "source": [
    "### Vamos a crear un chat capaz de extraer informacion de una web y procesarla\n",
    "Para ello vamos a usar LangChain 0.1 y a encadenar varios eslabones (chain). \n",
    "Used Chains:\n",
    "- document_chain\n",
    "- retrieval_chain"
   ]
  },
  {
   "cell_type": "code",
   "execution_count": null,
   "metadata": {},
   "outputs": [],
   "source": [
    "\n"
   ]
  },
  {
   "cell_type": "markdown",
   "metadata": {},
   "source": [
    "#### Creacion de un retriever\n",
    "Un retriever es una interfaz que devuelve documentos dada una query no estructurada.\n",
    "Basicamente, estructura en documentos la informacion no estructurada (docs, webs, pdf..)\n",
    "\n",
    "En este caso, se va a crear un retriever de una web de origen"
   ]
  },
  {
   "cell_type": "code",
   "execution_count": 12,
   "metadata": {},
   "outputs": [],
   "source": [
    "from langchain_community.document_loaders import WebBaseLoader\n",
    "from langchain_openai import OpenAIEmbeddings\n",
    "from langchain_community.vectorstores.faiss import FAISS\n",
    "from langchain_community.vectorstores.faiss import VectorStore\n",
    "from langchain.text_splitter import RecursiveCharacterTextSplitter\n",
    "\n",
    "def getVectorStoreFromUrl(url) -> VectorStore:\n",
    "  ## Extract data from a new source\n",
    "  loader = WebBaseLoader(url)\n",
    "  webInfo = loader.load()\n",
    "  \n",
    "  ## Transform docs to an embedding.\n",
    "  ## OpenAI uses his own embeddings\n",
    "  openAiEmbeddings = OpenAIEmbeddings()\n",
    "\n",
    "  text_splitter = RecursiveCharacterTextSplitter()\n",
    "  splittedWebInfo = text_splitter.split_documents(webInfo)\n",
    "  # splittedDocs\n",
    "  vectorStore = FAISS.from_documents(splittedWebInfo, openAiEmbeddings)\n",
    "  return vectorStore"
   ]
  },
  {
   "cell_type": "code",
   "execution_count": 80,
   "metadata": {},
   "outputs": [],
   "source": [
    "from langchain.chains.retrieval import create_retrieval_chain\n",
    "from langchain.chains.combine_documents import create_stuff_documents_chain\n",
    "from langchain.chains import create_history_aware_retriever\n",
    "\n",
    "def createRetrieverChainFromUrl(llm, prompt, url):\n",
    "  document_chain = create_stuff_documents_chain(llm, prompt)\n",
    "\n",
    "  vectorStore = getVectorStoreFromUrl(url)\n",
    "  # retriever_chain = create_retrieval_chain(vectorStore.as_retriever(), document_chain)\n",
    "\n",
    "  retriever_chat_chain = create_history_aware_retriever(llm, vectorStore.as_retriever(), prompt)\n",
    "  \n",
    "  return create_retrieval_chain(retriever_chat_chain, document_chain)"
   ]
  },
  {
   "cell_type": "code",
   "execution_count": 54,
   "metadata": {},
   "outputs": [],
   "source": [
    "from langchain_core.messages import HumanMessage, AIMessage\n",
    "\n",
    "def getInitialChatHistory():\n",
    "  return [\n",
    "    AIMessage(content=\"Hola! Soy el señor Meesecks!, la vida es dolor!, ¿En qué puedo ayudarte?\")\n",
    "    AIMessage(content=\"Hola! Soy el señor Meesecks!, la vida es dolor!, ¿En qué puedo ayudarte?\")\n",
    "  ]"
   ]
  },
  {
   "cell_type": "code",
   "execution_count": 81,
   "metadata": {},
   "outputs": [],
   "source": [
    "from langchain_core.prompts import ChatPromptTemplate, MessagesPlaceholder\n",
    "\n",
    "## Creamos el prompt inicial.\n",
    "prompt: ChatPromptTemplate = ChatPromptTemplate.from_messages([\n",
    "  (\"system\", \"Responde a la pregunta solo con el contexto proporcionado. Contexto:\\n\\n{context}\"),\n",
    "  MessagesPlaceholder(variable_name=\"chat_history\"),\n",
    "  (\"user\", \"{input}\")\n",
    "])\n",
    "\n",
    "## Create retrieval chain\n",
    "## Convertimos el vector store a un retriever\n",
    "url = \"https://kokedamasconamor.com/como-hacer-tu-kokedama-paso-a-paso/\"\n",
    "retriever_chain = createRetrieverChainFromUrl(llm, prompt, url)"
   ]
  },
  {
   "cell_type": "code",
   "execution_count": 85,
   "metadata": {},
   "outputs": [],
   "source": [
    "response = retriever_chain.invoke({\n",
    "  \"context\": \"{context}\",\n",
    "  \"chat_history\": getInitialChatHistory(),\n",
    "  \"input\": \"Dime paso a paso como hacer un kokedama\"\n",
    "})"
   ]
  },
  {
   "cell_type": "code",
   "execution_count": 67,
   "metadata": {},
   "outputs": [
    {
     "data": {
      "text/plain": [
       "'¡Claro! Aquí te explico paso a paso cómo hacer tu propio kokedama:\\n\\n1. Elige la planta: selecciona una planta de tamaño pequeño con maceta de unos 9 cm.\\n2. Reúne los materiales: sustrato universal o turba, tierra de akadama, humus de lombriz, musgo, pulverizador, agua, tijeras, hilo y un palillo de bambú u objeto punzante.\\n3. Limpia el musgo: humedece y limpia el musgo para que quede flexible.\\n4. Mezcla los sustratos: combina los sustratos en un recipiente hasta formar una bola.\\n5. Prepara la planta: saca la planta de la maceta, quita parte de la tierra y deja algunas raíces expuestas.\\n6. Forma la bola: cubre las raíces con sustrato formando una bola compacta.\\n7. Cubre con musgo: envuelve la bola con el musgo y sujétalo con hilo.\\n8. Sujeta con hilo: envuelve el musgo con hilo alrededor de la bola.\\n9. Hacer los ajustes finales: corta el hilo y ajusta los extremos para un acabado perfecto.\\n\\n¡Y listo! Ya tendrás tu propio kokedama listo para decorar tu hogar. ¡Espero que te sea de ayuda!'"
      ]
     },
     "execution_count": 67,
     "metadata": {},
     "output_type": "execute_result"
    }
   ],
   "source": [
    "response['answer']"
   ]
  },
  {
   "cell_type": "markdown",
   "metadata": {},
   "source": [
    "'¡Claro! Aquí te explico paso a paso cómo hacer tu propio kokedama:\\n\\n1. Elige la planta: selecciona una planta de tamaño pequeño con maceta de unos 9 cm.\\n2. Reúne los materiales: sustrato universal o turba, tierra de akadama, humus de lombriz, musgo, pulverizador, agua, tijeras, hilo y un palillo de bambú u objeto punzante.\\n3. Limpia el musgo: humedece y limpia el musgo para que quede flexible.\\n4. Mezcla los sustratos: combina los sustratos en un recipiente hasta formar una bola.\\n5. Prepara la planta: saca la planta de la maceta, quita parte de la tierra y deja algunas raíces expuestas.\\n6. Forma la bola: cubre las raíces con sustrato formando una bola compacta.\\n7. Cubre con musgo: envuelve la bola con el musgo y sujétalo con hilo.\\n8. Sujeta con hilo: envuelve el musgo con hilo alrededor de la bola.\\n9. Hacer los ajustes finales: corta el hilo y ajusta los extremos para un acabado perfecto.\\n\\n¡Y listo! Ya tendrás tu propio kokedama listo para decorar tu hogar. ¡Espero que te sea de ayuda!'"
   ]
  }
 ],
 "metadata": {
  "kernelspec": {
   "display_name": "Python 3",
   "language": "python",
   "name": "python3"
  },
  "language_info": {
   "codemirror_mode": {
    "name": "ipython",
    "version": 3
   },
   "file_extension": ".py",
   "mimetype": "text/x-python",
   "name": "python",
   "nbconvert_exporter": "python",
   "pygments_lexer": "ipython3",
   "version": "3.12.1"
  }
 },
 "nbformat": 4,
 "nbformat_minor": 2
}
