{
  "cells": [
    {
      "cell_type": "markdown",
      "metadata": {
        "id": "85rFLznaGor2"
      },
      "source": [
        "# ColabConnect\n",
        "\n",
        "Make a copy of this notebook from `File > Save a Copy in Drive`"
      ]
    },
    {
      "cell_type": "code",
      "execution_count": null,
      "metadata": {
        "colab": {
          "base_uri": "https://localhost:8080/"
        },
        "id": "lIYdn1woOS1n",
        "outputId": "195c8f9b-c9dd-47e1-c487-dfa3b171b14b"
      },
      "outputs": [
        {
          "output_type": "stream",
          "name": "stdout",
          "text": [
            "Collecting git+https://github.com/amitness/colab-connect.git\n",
            "  Cloning https://github.com/amitness/colab-connect.git to /tmp/pip-req-build-6i_txsc0\n",
            "  Running command git clone --filter=blob:none --quiet https://github.com/amitness/colab-connect.git /tmp/pip-req-build-6i_txsc0\n",
            "  Resolved https://github.com/amitness/colab-connect.git to commit 1aae94940bb5e85af9a33586573342eab9ee3e0a\n",
            "  Preparing metadata (setup.py) ... \u001b[?25l\u001b[?25hdone\n",
            "Building wheels for collected packages: colabconnect\n",
            "  Building wheel for colabconnect (setup.py) ... \u001b[?25l\u001b[?25hdone\n",
            "  Created wheel for colabconnect: filename=colabconnect-0.0.8-py3-none-any.whl size=4548 sha256=d5d9c55a5c35e22bc253681bb07bcee0dff5fc755140a3d9610dbaf3819429c2\n",
            "  Stored in directory: /tmp/pip-ephem-wheel-cache-kjc8g7y8/wheels/03/ec/01/2b45a7fb6312f3580ad2f4e0e218bf82de5445dc3ee3bca9ba\n",
            "Successfully built colabconnect\n"
          ]
        }
      ],
      "source": [
        "!pip install -U git+https://github.com/amitness/colab-connect.git"
      ]
    },
    {
      "cell_type": "markdown",
      "metadata": {
        "id": "IagqfpSHGqCw"
      },
      "source": [
        "## Create a tunnel\n",
        "- You will be asked to login on Google drive and GitHub\n",
        "- Once it's say ready, open your local VSCode Editor, open command prompt and select **Remote-Tunnels: Connect to Tunnel**\n",
        "- Choose the tunnel which says \"online\" beside it"
      ]
    },
    {
      "cell_type": "code",
      "source": [
        "from colabconnect import colabconnect\n",
        "\n",
        "colabconnect()"
      ],
      "metadata": {
        "id": "BNj85daEi-mR"
      },
      "execution_count": null,
      "outputs": []
    }
  ],
  "metadata": {
    "colab": {
      "provenance": []
    },
    "kernelspec": {
      "display_name": "Python 3",
      "name": "python3"
    },
    "accelerator": "GPU",
    "gpuClass": "standard"
  },
  "nbformat": 4,
  "nbformat_minor": 0
}