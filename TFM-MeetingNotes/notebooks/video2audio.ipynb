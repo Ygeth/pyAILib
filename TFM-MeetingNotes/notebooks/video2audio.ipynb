{
  "cells": [
    {
      "cell_type": "markdown",
      "metadata": {
        "id": "jaKb12H917_4"
      },
      "source": []
    },
    {
      "cell_type": "code",
      "execution_count": 2,
      "metadata": {
        "colab": {
          "base_uri": "https://localhost:8080/",
          "height": 1000
        },
        "collapsed": true,
        "id": "cHQETR9h17_5",
        "outputId": "ea37bfab-4abb-4ce9-8f8f-eaa1fdd2c8cd"
      },
      "outputs": [
        {
          "name": "stdout",
          "output_type": "stream",
          "text": [
            "Collecting moviepy\n",
            "  Downloading moviepy-1.0.3.tar.gz (388 kB)\n",
            "     ---------------------------------------- 0.0/388.3 kB ? eta -:--:--\n",
            "     - -------------------------------------- 10.2/388.3 kB ? eta -:--:--\n",
            "     - ----------------------------------- 20.5/388.3 kB 162.5 kB/s eta 0:00:03\n",
            "     --- --------------------------------- 41.0/388.3 kB 245.8 kB/s eta 0:00:02\n",
            "     ------- ----------------------------- 81.9/388.3 kB 416.7 kB/s eta 0:00:01\n",
            "     -------------------------------- ----- 327.7/388.3 kB 1.6 MB/s eta 0:00:01\n",
            "     -------------------------------------- 388.3/388.3 kB 1.7 MB/s eta 0:00:00\n",
            "  Preparing metadata (setup.py): started\n",
            "  Preparing metadata (setup.py): finished with status 'done'\n",
            "Collecting decorator<5.0,>=4.0.2 (from moviepy)\n",
            "  Downloading decorator-4.4.2-py2.py3-none-any.whl.metadata (4.2 kB)\n",
            "Requirement already satisfied: tqdm<5.0,>=4.11.2 in c:\\users\\ricardomontaner\\miniconda3\\envs\\tfm\\lib\\site-packages (from moviepy) (4.66.4)\n",
            "Requirement already satisfied: requests<3.0,>=2.8.1 in c:\\users\\ricardomontaner\\miniconda3\\envs\\tfm\\lib\\site-packages (from moviepy) (2.31.0)\n",
            "Collecting proglog<=1.0.0 (from moviepy)\n",
            "  Downloading proglog-0.1.10-py3-none-any.whl.metadata (639 bytes)\n",
            "Requirement already satisfied: numpy>=1.17.3 in c:\\users\\ricardomontaner\\miniconda3\\envs\\tfm\\lib\\site-packages (from moviepy) (1.26.4)\n",
            "Collecting imageio<3.0,>=2.5 (from moviepy)\n",
            "  Downloading imageio-2.34.1-py3-none-any.whl.metadata (4.9 kB)\n",
            "Collecting imageio_ffmpeg>=0.2.0 (from moviepy)\n",
            "  Downloading imageio_ffmpeg-0.4.9-py3-none-win_amd64.whl.metadata (1.7 kB)\n",
            "Collecting pillow>=8.3.2 (from imageio<3.0,>=2.5->moviepy)\n",
            "  Using cached pillow-10.3.0-cp39-cp39-win_amd64.whl.metadata (9.4 kB)\n",
            "Requirement already satisfied: setuptools in c:\\users\\ricardomontaner\\miniconda3\\envs\\tfm\\lib\\site-packages (from imageio_ffmpeg>=0.2.0->moviepy) (69.5.1)\n",
            "Requirement already satisfied: charset-normalizer<4,>=2 in c:\\users\\ricardomontaner\\miniconda3\\envs\\tfm\\lib\\site-packages (from requests<3.0,>=2.8.1->moviepy) (3.3.2)\n",
            "Requirement already satisfied: idna<4,>=2.5 in c:\\users\\ricardomontaner\\miniconda3\\envs\\tfm\\lib\\site-packages (from requests<3.0,>=2.8.1->moviepy) (3.7)\n",
            "Requirement already satisfied: urllib3<3,>=1.21.1 in c:\\users\\ricardomontaner\\miniconda3\\envs\\tfm\\lib\\site-packages (from requests<3.0,>=2.8.1->moviepy) (2.2.1)\n",
            "Requirement already satisfied: certifi>=2017.4.17 in c:\\users\\ricardomontaner\\miniconda3\\envs\\tfm\\lib\\site-packages (from requests<3.0,>=2.8.1->moviepy) (2024.2.2)\n",
            "Requirement already satisfied: colorama in c:\\users\\ricardomontaner\\miniconda3\\envs\\tfm\\lib\\site-packages (from tqdm<5.0,>=4.11.2->moviepy) (0.4.6)\n",
            "Downloading decorator-4.4.2-py2.py3-none-any.whl (9.2 kB)\n",
            "Downloading imageio-2.34.1-py3-none-any.whl (313 kB)\n",
            "   ---------------------------------------- 0.0/313.5 kB ? eta -:--:--\n",
            "   ---------------------------------------- 313.5/313.5 kB 9.5 MB/s eta 0:00:00\n",
            "Downloading imageio_ffmpeg-0.4.9-py3-none-win_amd64.whl (22.6 MB)\n",
            "   ---------------------------------------- 0.0/22.6 MB ? eta -:--:--\n",
            "    --------------------------------------- 0.5/22.6 MB 15.5 MB/s eta 0:00:02\n",
            "   - -------------------------------------- 0.9/22.6 MB 15.0 MB/s eta 0:00:02\n",
            "   -- ------------------------------------- 1.5/22.6 MB 13.8 MB/s eta 0:00:02\n",
            "   --- ------------------------------------ 2.0/22.6 MB 13.0 MB/s eta 0:00:02\n",
            "   ---- ----------------------------------- 2.7/22.6 MB 12.1 MB/s eta 0:00:02\n",
            "   ----- ---------------------------------- 3.1/22.6 MB 12.5 MB/s eta 0:00:02\n",
            "   ------ --------------------------------- 3.7/22.6 MB 12.4 MB/s eta 0:00:02\n",
            "   ------- -------------------------------- 4.2/22.6 MB 12.7 MB/s eta 0:00:02\n",
            "   -------- ------------------------------- 4.8/22.6 MB 12.8 MB/s eta 0:00:02\n",
            "   --------- ------------------------------ 5.3/22.6 MB 12.5 MB/s eta 0:00:02\n",
            "   ---------- ----------------------------- 5.8/22.6 MB 12.4 MB/s eta 0:00:02\n",
            "   ----------- ---------------------------- 6.3/22.6 MB 12.6 MB/s eta 0:00:02\n",
            "   ----------- ---------------------------- 6.7/22.6 MB 12.6 MB/s eta 0:00:02\n",
            "   ------------- -------------------------- 7.5/22.6 MB 12.7 MB/s eta 0:00:02\n",
            "   -------------- ------------------------- 8.2/22.6 MB 12.7 MB/s eta 0:00:02\n",
            "   --------------- ------------------------ 8.6/22.6 MB 12.6 MB/s eta 0:00:02\n",
            "   ---------------- ----------------------- 9.1/22.6 MB 12.6 MB/s eta 0:00:02\n",
            "   ---------------- ----------------------- 9.2/22.6 MB 12.0 MB/s eta 0:00:02\n",
            "   ---------------- ----------------------- 9.4/22.6 MB 11.5 MB/s eta 0:00:02\n",
            "   ------------------ --------------------- 10.4/22.6 MB 12.1 MB/s eta 0:00:02\n",
            "   ------------------- -------------------- 11.0/22.6 MB 12.1 MB/s eta 0:00:01\n",
            "   -------------------- ------------------- 11.5/22.6 MB 12.1 MB/s eta 0:00:01\n",
            "   --------------------- ------------------ 12.1/22.6 MB 12.4 MB/s eta 0:00:01\n",
            "   --------------------- ------------------ 12.3/22.6 MB 12.1 MB/s eta 0:00:01\n",
            "   ----------------------- ---------------- 13.3/22.6 MB 12.4 MB/s eta 0:00:01\n",
            "   ------------------------ --------------- 14.0/22.6 MB 12.4 MB/s eta 0:00:01\n",
            "   ------------------------- -------------- 14.6/22.6 MB 12.6 MB/s eta 0:00:01\n",
            "   -------------------------- ------------- 15.1/22.6 MB 12.3 MB/s eta 0:00:01\n",
            "   --------------------------- ------------ 15.7/22.6 MB 12.4 MB/s eta 0:00:01\n",
            "   ---------------------------- ----------- 16.1/22.6 MB 12.4 MB/s eta 0:00:01\n",
            "   ----------------------------- ---------- 16.7/22.6 MB 12.3 MB/s eta 0:00:01\n",
            "   ------------------------------ --------- 17.4/22.6 MB 12.1 MB/s eta 0:00:01\n",
            "   ------------------------------- -------- 17.8/22.6 MB 12.1 MB/s eta 0:00:01\n",
            "   -------------------------------- ------- 18.5/22.6 MB 12.4 MB/s eta 0:00:01\n",
            "   --------------------------------- ------ 19.1/22.6 MB 12.4 MB/s eta 0:00:01\n",
            "   ---------------------------------- ----- 19.6/22.6 MB 13.6 MB/s eta 0:00:01\n",
            "   ----------------------------------- ---- 20.1/22.6 MB 13.1 MB/s eta 0:00:01\n",
            "   ------------------------------------ --- 20.6/22.6 MB 12.6 MB/s eta 0:00:01\n",
            "   ------------------------------------- -- 21.2/22.6 MB 12.6 MB/s eta 0:00:01\n",
            "   -------------------------------------- - 21.8/22.6 MB 12.6 MB/s eta 0:00:01\n",
            "   ---------------------------------------  22.3/22.6 MB 12.8 MB/s eta 0:00:01\n",
            "   ---------------------------------------  22.6/22.6 MB 13.4 MB/s eta 0:00:01\n",
            "   ---------------------------------------- 22.6/22.6 MB 12.4 MB/s eta 0:00:00\n",
            "Downloading proglog-0.1.10-py3-none-any.whl (6.1 kB)\n",
            "Using cached pillow-10.3.0-cp39-cp39-win_amd64.whl (2.5 MB)\n",
            "Building wheels for collected packages: moviepy\n",
            "  Building wheel for moviepy (setup.py): started\n",
            "  Building wheel for moviepy (setup.py): finished with status 'done'\n",
            "  Created wheel for moviepy: filename=moviepy-1.0.3-py3-none-any.whl size=110765 sha256=569ef3f278343ef40857d739034855bb3e3c06a2754981335aef46ab8a96a0a9\n",
            "  Stored in directory: c:\\users\\ricardomontaner\\appdata\\local\\pip\\cache\\wheels\\29\\15\\e4\\4f790bec6acd51a00b67e8ee1394f0bc6e0135c315f8ff399a\n",
            "Successfully built moviepy\n",
            "Installing collected packages: pillow, imageio_ffmpeg, decorator, proglog, imageio, moviepy\n",
            "  Attempting uninstall: decorator\n",
            "    Found existing installation: decorator 5.1.1\n",
            "    Uninstalling decorator-5.1.1:\n",
            "      Successfully uninstalled decorator-5.1.1\n",
            "Successfully installed decorator-4.4.2 imageio-2.34.1 imageio_ffmpeg-0.4.9 moviepy-1.0.3 pillow-10.3.0 proglog-0.1.10\n"
          ]
        }
      ],
      "source": [
        "# !conda create -n TFM python=3.9\n",
        "# !conda activate TFM\n",
        "!pip install moviepy"
      ]
    },
    {
      "cell_type": "code",
      "execution_count": 4,
      "metadata": {},
      "outputs": [],
      "source": [
        "from moviepy.audio.io.AudioFileClip import AudioFileClip\n",
        "from moviepy.editor import VideoFileClip\n",
        "\n",
        "def extract_audio_from_video(video_path, audio_path):# -> Any:\n",
        "    # Load the video clip\n",
        "    clip = VideoFileClip(video_path)\n",
        "    # Extract the audio from the video clip\n",
        "    # clip.audio\n",
        "    audio_clip: AudioFileClip | None = clip.audio\n",
        "    # # Save the audio clip as WAV file\n",
        "    audio_clip.write_audiofile(audio_path)\n",
        "    \n",
        "    return audio_path"
      ]
    },
    {
      "cell_type": "code",
      "execution_count": 6,
      "metadata": {},
      "outputs": [
        {
          "name": "stdout",
          "output_type": "stream",
          "text": [
            "MoviePy - Writing audio in ../data/Google-Formacion1.mp3\n"
          ]
        },
        {
          "name": "stderr",
          "output_type": "stream",
          "text": [
            "                                                                          "
          ]
        },
        {
          "name": "stdout",
          "output_type": "stream",
          "text": [
            "MoviePy - Done.\n"
          ]
        },
        {
          "name": "stderr",
          "output_type": "stream",
          "text": [
            "\r"
          ]
        },
        {
          "data": {
            "text/plain": [
              "'../data/Google-Formacion1.mp3'"
            ]
          },
          "execution_count": 6,
          "metadata": {},
          "output_type": "execute_result"
        }
      ],
      "source": [
        "extract_audio_from_video('../data/Google-GetCertied-Formacion.mp4', '../data/Google-Formacion1.mp3')"
      ]
    }
  ],
  "metadata": {
    "accelerator": "GPU",
    "colab": {
      "gpuType": "T4",
      "provenance": []
    },
    "kernelspec": {
      "display_name": "Python 3",
      "name": "python3"
    },
    "language_info": {
      "codemirror_mode": {
        "name": "ipython",
        "version": 3
      },
      "file_extension": ".py",
      "mimetype": "text/x-python",
      "name": "python",
      "nbconvert_exporter": "python",
      "pygments_lexer": "ipython3",
      "version": "3.9.19"
    }
  },
  "nbformat": 4,
  "nbformat_minor": 0
}
